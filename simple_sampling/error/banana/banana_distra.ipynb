{
 "cells": [
  {
   "cell_type": "markdown",
   "id": "aeb8ab86",
   "metadata": {},
   "source": [
    "# 本实验用于查看各种MCMC算法在 ESS 上的表现\n",
    "包括\n",
    "- SP(MH) 单建议\n",
    "- MP 多建议\n",
    "- PSP 预取单建议\n",
    "- PMP 预取多建议"
   ]
  },
  {
   "cell_type": "markdown",
   "id": "e9361aab",
   "metadata": {},
   "source": [
    "## 1. SP(MH) 单建议"
   ]
  },
  {
   "cell_type": "code",
   "execution_count": 1,
   "id": "a1110160",
   "metadata": {
    "pycharm": {
     "is_executing": true
    }
   },
   "outputs": [
    {
     "name": "stderr",
     "output_type": "stream",
     "text": [
      "100%|██████████| 1000/1000 [00:00<00:00, 52638.04it/s]\n"
     ]
    },
    {
     "data": {
      "text/plain": [
       "(array([[0., 0., 0., ..., 0., 0., 0.],\n",
       "        [0., 0., 0., ..., 0., 0., 0.],\n",
       "        [0., 0., 0., ..., 0., 0., 0.],\n",
       "        ...,\n",
       "        [0., 0., 0., ..., 0., 0., 0.],\n",
       "        [0., 0., 0., ..., 0., 0., 0.],\n",
       "        [0., 0., 0., ..., 0., 0., 0.]]),\n",
       " array([-3.  , -2.85, -2.7 , -2.55, -2.4 , -2.25, -2.1 , -1.95, -1.8 ,\n",
       "        -1.65, -1.5 , -1.35, -1.2 , -1.05, -0.9 , -0.75, -0.6 , -0.45,\n",
       "        -0.3 , -0.15,  0.  ,  0.15,  0.3 ,  0.45,  0.6 ,  0.75,  0.9 ,\n",
       "         1.05,  1.2 ,  1.35,  1.5 ,  1.65,  1.8 ,  1.95,  2.1 ,  2.25,\n",
       "         2.4 ,  2.55,  2.7 ,  2.85,  3.  ]),\n",
       " array([-15.  , -14.45, -13.9 , -13.35, -12.8 , -12.25, -11.7 , -11.15,\n",
       "        -10.6 , -10.05,  -9.5 ,  -8.95,  -8.4 ,  -7.85,  -7.3 ,  -6.75,\n",
       "         -6.2 ,  -5.65,  -5.1 ,  -4.55,  -4.  ,  -3.45,  -2.9 ,  -2.35,\n",
       "         -1.8 ,  -1.25,  -0.7 ,  -0.15,   0.4 ,   0.95,   1.5 ,   2.05,\n",
       "          2.6 ,   3.15,   3.7 ,   4.25,   4.8 ,   5.35,   5.9 ,   6.45,\n",
       "          7.  ]),\n",
       " <matplotlib.collections.QuadMesh at 0x188690103c8>)"
      ]
     },
     "execution_count": 1,
     "metadata": {},
     "output_type": "execute_result"
    },
    {
     "data": {
      "image/png": "[encoded data removed]",
      "text/plain": [
       "<Figure size 432x288 with 1 Axes>"
      ]
     },
     "metadata": {
      "needs_background": "light"
     },
     "output_type": "display_data"
    }
   ],
   "source": [
    "import numpy as np\n",
    "import random\n",
    "import matplotlib.pyplot as plt\n",
    "from tqdm import tqdm\n",
    "\n",
    "# 正态分布概率密度函数计算\n",
    "def banana_distribution(x):\n",
    "    x1 = x[0]\n",
    "    x2 = x[1]\n",
    "    p = np.exp(-(x1**2)/2) * np.exp(-((x2 - 2*(x1**2 - 5))**2) / 2)\n",
    "    return p\n",
    "def move(x):\n",
    "    x1 = x[0]+ np.random.normal()\n",
    "    x2 = x[1]+ np.random.normal()\n",
    "    return np.array([x1,x2])\n",
    "\n",
    "def SP(hops,mu,sigma):\n",
    "    states = [] \n",
    "    burn_in = int(0)\n",
    "    current = np.array([0,-10])\n",
    "    acc_num = 0\n",
    "    rej_num = 0\n",
    "    for i in tqdm(range(hops)):\n",
    "        # 记录样本\n",
    "        states.append(current)\n",
    "        # 1.建议\n",
    "        movement = move(current)\n",
    "        \n",
    "        # 2.计算接受率\n",
    "        curr_prob = banana_distribution(x=current)\n",
    "        move_prob = banana_distribution(x=movement)\n",
    "        \n",
    "        acceptance = move_prob/(curr_prob)\n",
    "        # 3.判定是否接受\n",
    "        event = random.uniform(0,1)\n",
    "        if acceptance > event:\n",
    "            current = movement\n",
    "            acc_num = acc_num + 1\n",
    "        else :\n",
    "            rej_num = rej_num +1\n",
    "\n",
    "   \n",
    "    return states[:],acc_num\n",
    "\n",
    "mu, sigma = 0,1\n",
    "dist,acc_num = SP(1000,mu=mu,sigma=sigma)\n",
    "dist = np.array(dist)\n",
    "\n",
    "plt.xlim(-3,3)\n",
    "plt.ylim(-15,7)\n",
    "plt.hist2d(dist[:, 0], dist[:, 1], bins=40, cmap='viridis',range=np.array([(-3, 3), (-15, 7)]))\n",
    "\n"
   ]
  },
  {
   "cell_type": "code",
   "execution_count": 178,
   "id": "dd55a3d9",
   "metadata": {
    "pycharm": {
     "is_executing": true
    }
   },
   "outputs": [
    {
     "name": "stderr",
     "output_type": "stream",
     "text": [
      "100%|█████████████████████████████████████████████████████████████████████████████████████████████████████████████████████████████████████████| 10000/10000 [00:00<00:00, 31139.06it/s]\n"
     ]
    },
    {
     "data": {
      "text/plain": [
       "(array([[0., 0., 0., ..., 0., 0., 0.],\n",
       "        [0., 0., 0., ..., 0., 0., 0.],\n",
       "        [0., 0., 0., ..., 0., 0., 0.],\n",
       "        ...,\n",
       "        [0., 0., 0., ..., 0., 0., 0.],\n",
       "        [0., 0., 0., ..., 0., 0., 0.],\n",
       "        [0., 0., 0., ..., 0., 0., 0.]]),\n",
       " array([-3.  , -2.85, -2.7 , -2.55, -2.4 , -2.25, -2.1 , -1.95, -1.8 ,\n",
       "        -1.65, -1.5 , -1.35, -1.2 , -1.05, -0.9 , -0.75, -0.6 , -0.45,\n",
       "        -0.3 , -0.15,  0.  ,  0.15,  0.3 ,  0.45,  0.6 ,  0.75,  0.9 ,\n",
       "         1.05,  1.2 ,  1.35,  1.5 ,  1.65,  1.8 ,  1.95,  2.1 ,  2.25,\n",
       "         2.4 ,  2.55,  2.7 ,  2.85,  3.  ]),\n",
       " array([-15.  , -14.45, -13.9 , -13.35, -12.8 , -12.25, -11.7 , -11.15,\n",
       "        -10.6 , -10.05,  -9.5 ,  -8.95,  -8.4 ,  -7.85,  -7.3 ,  -6.75,\n",
       "         -6.2 ,  -5.65,  -5.1 ,  -4.55,  -4.  ,  -3.45,  -2.9 ,  -2.35,\n",
       "         -1.8 ,  -1.25,  -0.7 ,  -0.15,   0.4 ,   0.95,   1.5 ,   2.05,\n",
       "          2.6 ,   3.15,   3.7 ,   4.25,   4.8 ,   5.35,   5.9 ,   6.45,\n",
       "          7.  ]),\n",
       " <matplotlib.collections.QuadMesh at 0x2769f7cab38>)"
      ]
     },
     "execution_count": 178,
     "metadata": {},
     "output_type": "execute_result"
    },
    {
     "data": {
      "image/png": "[encoded data removed]",
      "text/plain": [
       "<Figure size 432x288 with 1 Axes>"
      ]
     },
     "metadata": {
      "needs_background": "light"
     },
     "output_type": "display_data"
    }
   ],
   "source": [
    "mu, sigma = 0,1\n",
    "dist,acc_num = SP(10000,mu=mu,sigma=sigma)\n",
    "dist = np.array(dist)\n",
    "\n",
    "plt.xlim(-3,3)\n",
    "plt.ylim(-15,7)\n",
    "plt.hist2d(dist[:, 0], dist[:, 1], bins=40, cmap='viridis',range=np.array([(-3, 3), (-15, 7)]))"
   ]
  },
  {
   "cell_type": "markdown",
   "id": "24430b0b",
   "metadata": {},
   "source": [
    "## 2. MP 多建议"
   ]
  },
  {
   "cell_type": "code",
   "execution_count": 2,
   "id": "d2623747",
   "metadata": {},
   "outputs": [],
   "source": [
    "import numpy as np\n",
    "import random\n",
    "import matplotlib.pyplot as plt\n",
    "from scipy import stats\n",
    "from tqdm import tqdm\n",
    "import pandas as pd\n",
    "\n",
    "\n",
    "\n",
    "def MP(hops, mu, sigma, N):\n",
    "    \n",
    "    d = 2\n",
    "    I = 0\n",
    "    X = np.empty([hops * (N + 1), d])\n",
    "    X[0] = np.array([0,-10])\n",
    "    Y = np.empty([N + 1, d])\n",
    "    Y[0] = X[0]\n",
    "    # generate N new points from the proposal 初始化产生N个建议值（可并行）\n",
    "    for i in range(N):\n",
    "        j = i + 1\n",
    "        Y[j] = move(X[0])\n",
    "    K = np.empty([N+1 , 1])\n",
    "    A = np.empty([N+1 , 1])\n",
    "\n",
    "    for i in tqdm(range(hops)):\n",
    "        # 计算接受率（可并行）\n",
    "        for j in range(N+1):\n",
    "            temp = 1\n",
    "            for k in range(N+1):\n",
    "                K[k] = stats.norm.pdf(Y[j,0], Y[k,0])*stats.norm.pdf(Y[j,1], Y[k,1])\n",
    "                if j!=k :\n",
    "                    temp = K[k]*temp\n",
    "            A[j, 0] = temp * banana_distribution(x=Y[j])\n",
    "            \n",
    "        # 根据接受率采样 \n",
    "  \n",
    "       \n",
    "      \n",
    "        \n",
    "        B = pd.DataFrame(A.reshape(-1))\n",
    "       \n",
    "\n",
    "       \n",
    "        \n",
    "    \n",
    "        index = pd.DataFrame(np.linspace(0, N, N + 1).astype(np.int32))\n",
    "        X[i * N + i:(i + 1) * (N + 1)] = Y[index.sample(N+1,replace=True, weights=B[0]).values.reshape(-1)]\n",
    "        \n",
    "        # 重新产生N个建议值（可并行）\n",
    "        I = np.random.choice(np.linspace( i*N+i, (i+1)*(N+1)-1, N+1).astype(np.int32), 1)\n",
    "        Y[0] = X[I]\n",
    "       \n",
    "        for i in range(N):\n",
    "            j = i + 1\n",
    "            Y[j] = move(Y[0])\n",
    "        \n",
    "\n",
    "    return X#X[int(0.2*hops*(N+1)):]\n",
    "\n",
    "\n",
    "\n"
   ]
  },
  {
   "cell_type": "code",
   "execution_count": 186,
   "id": "5df88caa",
   "metadata": {},
   "outputs": [
    {
     "name": "stderr",
     "output_type": "stream",
     "text": [
      "100%|█████████████████████████████████████████████████████████████████████████████████████████████████████████████████████████████████████████████| 1000/1000 [00:08<00:00, 123.74it/s]\n"
     ]
    },
    {
     "data": {
      "text/plain": [
       "(array([[0., 0., 0., ..., 0., 0., 0.],\n",
       "        [0., 0., 0., ..., 0., 0., 0.],\n",
       "        [0., 0., 0., ..., 0., 0., 0.],\n",
       "        ...,\n",
       "        [0., 0., 0., ..., 0., 0., 0.],\n",
       "        [0., 0., 0., ..., 0., 0., 0.],\n",
       "        [0., 0., 0., ..., 0., 0., 0.]]),\n",
       " array([-3.  , -2.85, -2.7 , -2.55, -2.4 , -2.25, -2.1 , -1.95, -1.8 ,\n",
       "        -1.65, -1.5 , -1.35, -1.2 , -1.05, -0.9 , -0.75, -0.6 , -0.45,\n",
       "        -0.3 , -0.15,  0.  ,  0.15,  0.3 ,  0.45,  0.6 ,  0.75,  0.9 ,\n",
       "         1.05,  1.2 ,  1.35,  1.5 ,  1.65,  1.8 ,  1.95,  2.1 ,  2.25,\n",
       "         2.4 ,  2.55,  2.7 ,  2.85,  3.  ]),\n",
       " array([-15.  , -14.45, -13.9 , -13.35, -12.8 , -12.25, -11.7 , -11.15,\n",
       "        -10.6 , -10.05,  -9.5 ,  -8.95,  -8.4 ,  -7.85,  -7.3 ,  -6.75,\n",
       "         -6.2 ,  -5.65,  -5.1 ,  -4.55,  -4.  ,  -3.45,  -2.9 ,  -2.35,\n",
       "         -1.8 ,  -1.25,  -0.7 ,  -0.15,   0.4 ,   0.95,   1.5 ,   2.05,\n",
       "          2.6 ,   3.15,   3.7 ,   4.25,   4.8 ,   5.35,   5.9 ,   6.45,\n",
       "          7.  ]),\n",
       " <matplotlib.collections.QuadMesh at 0x2769f5c3ef0>)"
      ]
     },
     "execution_count": 186,
     "metadata": {},
     "output_type": "execute_result"
    },
    {
     "data": {
      "image/png": "[encoded data removed]",
      "text/plain": [
       "<Figure size 432x288 with 1 Axes>"
      ]
     },
     "metadata": {
      "needs_background": "light"
     },
     "output_type": "display_data"
    }
   ],
   "source": [
    "dist = MP(1000, mu=mu, sigma=sigma, N=3)\n",
    "dist = np.array(dist)\n",
    "\n",
    "plt.xlim(-3,3)\n",
    "plt.ylim(-15,7)\n",
    "plt.hist2d(dist[:, 0], dist[:, 1], bins=40, cmap='viridis',range=np.array([(-3, 3), (-15, 7)]))"
   ]
  },
  {
   "cell_type": "code",
   "execution_count": 187,
   "id": "7e032d3f",
   "metadata": {},
   "outputs": [
    {
     "name": "stderr",
     "output_type": "stream",
     "text": [
      "100%|███████████████████████████████████████████████████████████████████████████████████████████████████████████████████████████████████████████| 10000/10000 [01:20<00:00, 123.99it/s]\n"
     ]
    },
    {
     "data": {
      "text/plain": [
       "(array([[0., 0., 0., ..., 0., 0., 0.],\n",
       "        [0., 0., 0., ..., 0., 0., 0.],\n",
       "        [0., 0., 0., ..., 0., 0., 0.],\n",
       "        ...,\n",
       "        [0., 0., 0., ..., 0., 0., 0.],\n",
       "        [0., 0., 0., ..., 0., 0., 0.],\n",
       "        [0., 0., 0., ..., 0., 0., 0.]]),\n",
       " array([-3.  , -2.85, -2.7 , -2.55, -2.4 , -2.25, -2.1 , -1.95, -1.8 ,\n",
       "        -1.65, -1.5 , -1.35, -1.2 , -1.05, -0.9 , -0.75, -0.6 , -0.45,\n",
       "        -0.3 , -0.15,  0.  ,  0.15,  0.3 ,  0.45,  0.6 ,  0.75,  0.9 ,\n",
       "         1.05,  1.2 ,  1.35,  1.5 ,  1.65,  1.8 ,  1.95,  2.1 ,  2.25,\n",
       "         2.4 ,  2.55,  2.7 ,  2.85,  3.  ]),\n",
       " array([-15.  , -14.45, -13.9 , -13.35, -12.8 , -12.25, -11.7 , -11.15,\n",
       "        -10.6 , -10.05,  -9.5 ,  -8.95,  -8.4 ,  -7.85,  -7.3 ,  -6.75,\n",
       "         -6.2 ,  -5.65,  -5.1 ,  -4.55,  -4.  ,  -3.45,  -2.9 ,  -2.35,\n",
       "         -1.8 ,  -1.25,  -0.7 ,  -0.15,   0.4 ,   0.95,   1.5 ,   2.05,\n",
       "          2.6 ,   3.15,   3.7 ,   4.25,   4.8 ,   5.35,   5.9 ,   6.45,\n",
       "          7.  ]),\n",
       " <matplotlib.collections.QuadMesh at 0x2769f471668>)"
      ]
     },
     "execution_count": 187,
     "metadata": {},
     "output_type": "execute_result"
    },
    {
     "data": {
      "image/png": "[encoded data removed]",
      "text/plain": [
       "<Figure size 432x288 with 1 Axes>"
      ]
     },
     "metadata": {
      "needs_background": "light"
     },
     "output_type": "display_data"
    }
   ],
   "source": [
    "dist = MP(10000, mu=mu, sigma=sigma, N=3)\n",
    "dist = np.array(dist)\n",
    "plt.ylim(-15,7)\n",
    "plt.xlim(-3,3)\n",
    "plt.hist2d(dist[:, 0], dist[:, 1], bins=40, cmap='viridis',range=np.array([(-3, 3), (-15, 7)]))\n"
   ]
  },
  {
   "cell_type": "markdown",
   "id": "28147cbf",
   "metadata": {},
   "source": [
    "## 4.PMP 预取多建议"
   ]
  },
  {
   "cell_type": "code",
   "execution_count": 3,
   "id": "8fe1ed04",
   "metadata": {
    "scrolled": true
   },
   "outputs": [
    {
     "name": "stderr",
     "output_type": "stream",
     "text": [
      "100%|██████████| 1000/1000 [00:14<00:00, 69.27it/s]\n"
     ]
    }
   ],
   "source": [
    "import numpy as np\n",
    "import random\n",
    "import matplotlib.pyplot as plt\n",
    "from scipy import stats\n",
    "from tqdm import tqdm\n",
    "import pandas as pd\n",
    "import math\n",
    "\n",
    "\n",
    "\n",
    "def PMP(hops, mu, sigma,N,deep):\n",
    "    d = 2\n",
    "    I = 0\n",
    "    X = np.empty([hops * (N + 1)**deep, d])\n",
    "    X[0] = np.array([0,-10])\n",
    "    Y = np.empty([(N + 1)**deep, d])\n",
    "   \n",
    "\n",
    "    Y[0] = X[0]\n",
    "    for dee in range(deep):\n",
    "        temp = (N+1)**dee\n",
    "        for j in range(N):\n",
    "            for k in range(temp):\n",
    "                Y[k+temp*(j+1)] = move(Y[k])\n",
    "\n",
    "    \n",
    "    for hop in tqdm(range(hops)):\n",
    "        A = np.ones([(N + 1)**deep, 1])\n",
    "        weights = np.empty([(N + 1) ** deep , 1])\n",
    "        w_t = np.ones([N + 1, 1])\n",
    "        # 1.计算接受率（可并行）\n",
    "        ## 1.1 计算似然函数\n",
    "        for all in range((N + 1) ** deep):\n",
    "            weights[all, 0] = banana_distribution(Y[all])\n",
    "        ## 1.2 计算接收概率\n",
    "        for i in range(deep):\n",
    "            temp = (N+1)**i\n",
    "            for h in range((N+1)**i):\n",
    "                for j in range(N+1):\n",
    "                    w_t[j,0] = weights[h+j*temp,0]\n",
    "                for j in range(N+1):\n",
    "                    for k in range(N+1):\n",
    "                        if j!=k:\n",
    "                            w_t[j,0] = w_t[j,0] * stats.norm.pdf(Y[h+j*temp, 0], Y[h+k*temp, 0])* stats.norm.pdf(Y[h+j*temp, 1], Y[h+k*temp, 1])\n",
    "                for j in range(N+1):\n",
    "                    A[h+j*temp,0] =A[h+j*temp,0] * w_t[j,0]/w_t.sum()\n",
    "            if i<deep-1:\n",
    "                for l in range((N+1)**(i+2)-(N+1)**(i+1)):\n",
    "                    A[l+(N+1)**(i+1),0] = A[(l+(N+1)**(i+1))%((N+1)*(i+1)),0]\n",
    "                    \n",
    "\n",
    "        B = pd.DataFrame(A.reshape(-1))\n",
    "        index = pd.DataFrame(np.linspace(0, (N+1)**deep-1, (N+1)**deep).astype(np.int32))\n",
    "        X[hop * (N+1)**deep:(hop+1) * (N+1)**deep] = Y[index.sample((N + 1)**deep, replace=True, weights=B[0]).values.reshape(-1)]\n",
    " \n",
    "        # 重新产生N个建议值（可并行）\n",
    "        I = np.random.choice(np.linspace(hop*(N+1)**deep,(hop+1)*(N+1)**deep-1,(N+1)**deep).astype(np.int32), 1)\n",
    "        \n",
    "        Y[0] = X[I]\n",
    "        for dee in range(deep):\n",
    "            temp = (N+1)**dee\n",
    "            for j in range(N):\n",
    "                for k in range(temp):\n",
    "                    Y[k+temp*(j+1)] = move(Y[k])\n",
    "                        \n",
    "\n",
    "    return X\n",
    "\n",
    "\n",
    "mu, sigma = 0, 1\n",
    "dist = PMP(1000, mu=mu, sigma=sigma,N=3,deep=2)\n"
   ]
  },
  {
   "cell_type": "code",
   "execution_count": 195,
   "id": "0b0eb1f6",
   "metadata": {},
   "outputs": [
    {
     "data": {
      "text/plain": [
       "(array([[0., 0., 0., ..., 0., 0., 0.],\n",
       "        [0., 0., 0., ..., 0., 0., 0.],\n",
       "        [0., 0., 0., ..., 0., 0., 0.],\n",
       "        ...,\n",
       "        [0., 0., 0., ..., 0., 0., 0.],\n",
       "        [0., 0., 0., ..., 0., 0., 0.],\n",
       "        [0., 0., 0., ..., 0., 0., 0.]]),\n",
       " array([-3.  , -2.85, -2.7 , -2.55, -2.4 , -2.25, -2.1 , -1.95, -1.8 ,\n",
       "        -1.65, -1.5 , -1.35, -1.2 , -1.05, -0.9 , -0.75, -0.6 , -0.45,\n",
       "        -0.3 , -0.15,  0.  ,  0.15,  0.3 ,  0.45,  0.6 ,  0.75,  0.9 ,\n",
       "         1.05,  1.2 ,  1.35,  1.5 ,  1.65,  1.8 ,  1.95,  2.1 ,  2.25,\n",
       "         2.4 ,  2.55,  2.7 ,  2.85,  3.  ]),\n",
       " array([-15.  , -14.45, -13.9 , -13.35, -12.8 , -12.25, -11.7 , -11.15,\n",
       "        -10.6 , -10.05,  -9.5 ,  -8.95,  -8.4 ,  -7.85,  -7.3 ,  -6.75,\n",
       "         -6.2 ,  -5.65,  -5.1 ,  -4.55,  -4.  ,  -3.45,  -2.9 ,  -2.35,\n",
       "         -1.8 ,  -1.25,  -0.7 ,  -0.15,   0.4 ,   0.95,   1.5 ,   2.05,\n",
       "          2.6 ,   3.15,   3.7 ,   4.25,   4.8 ,   5.35,   5.9 ,   6.45,\n",
       "          7.  ]),\n",
       " <matplotlib.collections.QuadMesh at 0x2769f3a6b38>)"
      ]
     },
     "execution_count": 195,
     "metadata": {},
     "output_type": "execute_result"
    },
    {
     "data": {
      "image/png": "[encoded data removed]",
      "text/plain": [
       "<Figure size 432x288 with 1 Axes>"
      ]
     },
     "metadata": {
      "needs_background": "light"
     },
     "output_type": "display_data"
    }
   ],
   "source": [
    "\n",
    "dist = np.array(dist)\n",
    "plt.ylim(-15,7)\n",
    "plt.xlim(-3,3)\n",
    "plt.hist2d(dist[:, 0], dist[:, 1], bins=40, cmap='viridis',range=np.array([(-3, 3), (-15, 7)]))"
   ]
  },
  {
   "cell_type": "code",
   "execution_count": 196,
   "id": "d4d47c49",
   "metadata": {},
   "outputs": [
    {
     "name": "stderr",
     "output_type": "stream",
     "text": [
      " 12%|████████████████▌                                                                                                                            | 1173/10000 [00:30<03:29, 42.20it/s]C:\\Users\\ygf\\.conda\\envs\\mcmc_complex_distrabution\\lib\\site-packages\\ipykernel_launcher.py:46: RuntimeWarning: invalid value encountered in double_scalars\n",
      " 14%|███████████████████▍                                                                                                                         | 1378/10000 [00:35<03:13, 44.45it/s]C:\\Users\\ygf\\.conda\\envs\\mcmc_complex_distrabution\\lib\\site-packages\\ipykernel_launcher.py:46: RuntimeWarning: invalid value encountered in double_scalars\n",
      " 64%|██████████████████████████████████████████████████████████████████████████████████████████▊                                                  | 6443/10000 [02:35<01:14, 47.73it/s]C:\\Users\\ygf\\.conda\\envs\\mcmc_complex_distrabution\\lib\\site-packages\\ipykernel_launcher.py:46: RuntimeWarning: invalid value encountered in double_scalars\n",
      "100%|████████████████████████████████████████████████████████████████████████████████████████████████████████████████████████████████████████████| 10000/10000 [03:54<00:00, 42.65it/s]\n"
     ]
    },
    {
     "data": {
      "text/plain": [
       "(array([[0., 0., 0., ..., 0., 0., 0.],\n",
       "        [0., 0., 0., ..., 0., 0., 0.],\n",
       "        [0., 0., 0., ..., 0., 0., 0.],\n",
       "        ...,\n",
       "        [0., 0., 0., ..., 0., 0., 0.],\n",
       "        [0., 0., 0., ..., 0., 0., 0.],\n",
       "        [0., 0., 0., ..., 0., 0., 0.]]),\n",
       " array([-3.  , -2.85, -2.7 , -2.55, -2.4 , -2.25, -2.1 , -1.95, -1.8 ,\n",
       "        -1.65, -1.5 , -1.35, -1.2 , -1.05, -0.9 , -0.75, -0.6 , -0.45,\n",
       "        -0.3 , -0.15,  0.  ,  0.15,  0.3 ,  0.45,  0.6 ,  0.75,  0.9 ,\n",
       "         1.05,  1.2 ,  1.35,  1.5 ,  1.65,  1.8 ,  1.95,  2.1 ,  2.25,\n",
       "         2.4 ,  2.55,  2.7 ,  2.85,  3.  ]),\n",
       " array([-15.  , -14.45, -13.9 , -13.35, -12.8 , -12.25, -11.7 , -11.15,\n",
       "        -10.6 , -10.05,  -9.5 ,  -8.95,  -8.4 ,  -7.85,  -7.3 ,  -6.75,\n",
       "         -6.2 ,  -5.65,  -5.1 ,  -4.55,  -4.  ,  -3.45,  -2.9 ,  -2.35,\n",
       "         -1.8 ,  -1.25,  -0.7 ,  -0.15,   0.4 ,   0.95,   1.5 ,   2.05,\n",
       "          2.6 ,   3.15,   3.7 ,   4.25,   4.8 ,   5.35,   5.9 ,   6.45,\n",
       "          7.  ]),\n",
       " <matplotlib.collections.QuadMesh at 0x2769fa30e80>)"
      ]
     },
     "execution_count": 196,
     "metadata": {},
     "output_type": "execute_result"
    },
    {
     "data": {
      "image/png": "[encoded data removed]",
      "text/plain": [
       "<Figure size 432x288 with 1 Axes>"
      ]
     },
     "metadata": {
      "needs_background": "light"
     },
     "output_type": "display_data"
    }
   ],
   "source": [
    "dist = PMP(10000, mu=mu, sigma=sigma,N=3,deep=2)\n",
    "dist = np.array(dist)\n",
    "plt.ylim(-15,7)\n",
    "plt.xlim(-3,3)\n",
    "plt.hist2d(dist[:, 0], dist[:, 1], bins=40, cmap='viridis',range=np.array([(-3, 3), (-15, 7)]))"
   ]
  },
  {
   "cell_type": "markdown",
   "id": "1cf52a01",
   "metadata": {},
   "source": [
    "# 结论"
   ]
  },
  {
   "cell_type": "markdown",
   "id": "6a3cc69f",
   "metadata": {},
   "source": [
    "从实验可知：对于传统的GMP方法而言，有效样本的质量低于传统的SP采样，并且使用PMP采样所获得样本的质量显著高于传统的SP\n",
    "即 MP 虽然能并行，但是采样的质量有所降低，PMP不仅能够并行，还能够提升采样的质量！"
   ]
  },
  {
   "cell_type": "code",
   "execution_count": 11,
   "id": "57d14f57",
   "metadata": {},
   "outputs": [
    {
     "name": "stderr",
     "output_type": "stream",
     "text": [
      "100%|██████████| 160000/160000 [00:00<00:00, 170171.23it/s]\n",
      "100%|██████████| 10000/10000 [03:19<00:00, 50.23it/s]\n",
      "100%|██████████| 10000/10000 [01:47<00:00, 92.96it/s]\n",
      "100%|██████████| 160000/160000 [00:00<00:00, 172916.16it/s]\n",
      "100%|██████████| 10000/10000 [03:21<00:00, 49.58it/s]\n",
      "100%|██████████| 10000/10000 [01:48<00:00, 92.50it/s]\n",
      "100%|██████████| 160000/160000 [00:00<00:00, 168901.18it/s]\n",
      "100%|██████████| 10000/10000 [03:22<00:00, 49.41it/s]\n",
      "100%|██████████| 10000/10000 [01:45<00:00, 94.90it/s]\n",
      "100%|██████████| 160000/160000 [00:00<00:00, 173761.86it/s]\n",
      "100%|██████████| 10000/10000 [03:18<00:00, 50.40it/s]\n",
      "100%|██████████| 10000/10000 [01:46<00:00, 94.34it/s]\n",
      "100%|██████████| 160000/160000 [00:00<00:00, 169691.93it/s]\n",
      "100%|██████████| 10000/10000 [03:21<00:00, 49.67it/s]\n",
      "100%|██████████| 10000/10000 [01:48<00:00, 92.39it/s]\n",
      "100%|██████████| 160000/160000 [00:00<00:00, 168101.98it/s]\n",
      "100%|██████████| 10000/10000 [03:19<00:00, 50.19it/s]\n",
      "100%|██████████| 10000/10000 [01:45<00:00, 94.36it/s]"
     ]
    },
    {
     "name": "stdout",
     "output_type": "stream",
     "text": [
      "[269.0328064  280.65100098 338.06616211 354.60131836 262.95153809\n",
      " 290.7986145 ]\n",
      "[212.84838528 188.11949803 204.86422331 225.67680558 246.95489469\n",
      " 248.33185787]\n",
      "[5619.89606375 4589.55151056 5708.20125161 5442.28463993 5354.99860563\n",
      " 4830.92501689]\n"
     ]
    },
    {
     "name": "stderr",
     "output_type": "stream",
     "text": [
      "\n"
     ]
    }
   ],
   "source": [
    "mu, sigma = 0,1\n",
    "times = 6\n",
    "sp = np.empty(times)\n",
    "mp = np.empty(times)\n",
    "psp = np.empty(times)\n",
    "pmp = np.empty(times)\n",
    "for i in range(times):\n",
    "    sp[i] = tfp.mcmc.effective_sample_size(tf.convert_to_tensor(SP(160000,mu=mu,sigma=sigma)),filter_beyond_positive_pairs=True)\n",
    "    mp[i] = tfp.mcmc.effective_sample_size(tf.convert_to_tensor(MP(10000, mu=mu, sigma=sigma, N=15)), filter_beyond_positive_pairs=True)\n",
    "    psp[i] = tfp.mcmc.effective_sample_size(tf.convert_to_tensor(PSP(10000, mu=mu, sigma=sigma,N=15)), filter_beyond_positive_pairs=True)\n",
    "print(sp)\n",
    "print(mp)\n",
    "print(psp)"
   ]
  },
  {
   "cell_type": "code",
   "execution_count": 12,
   "id": "f9e7b0ed",
   "metadata": {},
   "outputs": [
    {
     "ename": "AttributeError",
     "evalue": "module 'matplotlib.pyplot' has no attribute 'ylable'",
     "output_type": "error",
     "traceback": [
      "\u001b[1;31m---------------------------------------------------------------------------\u001b[0m",
      "\u001b[1;31mAttributeError\u001b[0m                            Traceback (most recent call last)",
      "\u001b[1;32m~\\AppData\\Local\\Temp\\ipykernel_5824\\2107427165.py\u001b[0m in \u001b[0;36m<module>\u001b[1;34m\u001b[0m\n\u001b[0;32m      4\u001b[0m \u001b[0mdata\u001b[0m\u001b[1;33m[\u001b[0m\u001b[1;33m:\u001b[0m\u001b[1;33m,\u001b[0m\u001b[1;36m2\u001b[0m\u001b[1;33m]\u001b[0m\u001b[1;33m=\u001b[0m\u001b[0mpsp\u001b[0m\u001b[1;33m\u001b[0m\u001b[1;33m\u001b[0m\u001b[0m\n\u001b[0;32m      5\u001b[0m \u001b[0mfig\u001b[0m \u001b[1;33m=\u001b[0m \u001b[0mplt\u001b[0m\u001b[1;33m.\u001b[0m\u001b[0mfigure\u001b[0m\u001b[1;33m(\u001b[0m\u001b[0mfigsize\u001b[0m\u001b[1;33m=\u001b[0m\u001b[1;33m(\u001b[0m\u001b[1;36m3\u001b[0m\u001b[1;33m,\u001b[0m\u001b[1;36m10\u001b[0m\u001b[1;33m)\u001b[0m\u001b[1;33m)\u001b[0m\u001b[1;33m\u001b[0m\u001b[1;33m\u001b[0m\u001b[0m\n\u001b[1;32m----> 6\u001b[1;33m \u001b[0mplt\u001b[0m\u001b[1;33m.\u001b[0m\u001b[0mylable\u001b[0m\u001b[1;33m(\u001b[0m\u001b[1;34m\"ESS\"\u001b[0m\u001b[1;33m)\u001b[0m\u001b[1;33m\u001b[0m\u001b[1;33m\u001b[0m\u001b[0m\n\u001b[0m\u001b[0;32m      7\u001b[0m \u001b[0mplt\u001b[0m\u001b[1;33m.\u001b[0m\u001b[0mxlable\u001b[0m\u001b[1;33m(\u001b[0m\u001b[1;34m\"Algorithm\"\u001b[0m\u001b[1;33m)\u001b[0m\u001b[1;33m\u001b[0m\u001b[1;33m\u001b[0m\u001b[0m\n\u001b[0;32m      8\u001b[0m \u001b[0mlabels\u001b[0m \u001b[1;33m=\u001b[0m \u001b[1;34m'SP'\u001b[0m\u001b[1;33m,\u001b[0m\u001b[1;34m'MP'\u001b[0m\u001b[1;33m,\u001b[0m\u001b[1;34m'PMP'\u001b[0m\u001b[1;33m\u001b[0m\u001b[1;33m\u001b[0m\u001b[0m\n",
      "\u001b[1;31mAttributeError\u001b[0m: module 'matplotlib.pyplot' has no attribute 'ylable'"
     ]
    },
    {
     "data": {
      "text/plain": [
       "<Figure size 216x720 with 0 Axes>"
      ]
     },
     "metadata": {},
     "output_type": "display_data"
    }
   ],
   "source": [
    "\n",
    "data = np.ones([times,3])\n",
    "data[:,0]=sp\n",
    "data[:,1]=mp\n",
    "data[:,2]=psp\n",
    "fig = plt.figure(figsize=(3,10))\n",
    "plt.ylable(\"ESS\")\n",
    "plt.xlable(\"Algorithm\")\n",
    "labels = 'SP','MP','PMP'\n",
    "view = plt.boxplot(data,labels=labels)\n",
    "plt.savefig(\"ess.pdf\")"
   ]
  },
  {
   "cell_type": "code",
   "execution_count": 7,
   "id": "1c6a8877",
   "metadata": {},
   "outputs": [
    {
     "name": "stderr",
     "output_type": "stream",
     "text": [
      "100%|██████████| 30000/30000 [00:00<00:00, 47096.39it/s]\n",
      "100%|██████████| 30000/30000 [02:37<00:00, 190.28it/s]\n",
      "  8%|▊         | 2371/30000 [00:34<06:45, 68.05it/s]d:\\pycharm\\anaconda\\envs\\36_ygf_base_mcmc\\lib\\site-packages\\ipykernel_launcher.py:46: RuntimeWarning: invalid value encountered in double_scalars\n",
      " 19%|█▉        | 5639/30000 [01:20<05:52, 69.05it/s]d:\\pycharm\\anaconda\\envs\\36_ygf_base_mcmc\\lib\\site-packages\\ipykernel_launcher.py:46: RuntimeWarning: invalid value encountered in double_scalars\n",
      " 28%|██▊       | 8302/30000 [01:59<05:04, 71.19it/s]d:\\pycharm\\anaconda\\envs\\36_ygf_base_mcmc\\lib\\site-packages\\ipykernel_launcher.py:46: RuntimeWarning: invalid value encountered in double_scalars\n",
      " 32%|███▏      | 9642/30000 [02:17<04:43, 71.93it/s]d:\\pycharm\\anaconda\\envs\\36_ygf_base_mcmc\\lib\\site-packages\\ipykernel_launcher.py:46: RuntimeWarning: invalid value encountered in double_scalars\n",
      " 37%|███▋      | 11045/30000 [02:38<04:36, 68.64it/s]d:\\pycharm\\anaconda\\envs\\36_ygf_base_mcmc\\lib\\site-packages\\ipykernel_launcher.py:46: RuntimeWarning: invalid value encountered in double_scalars\n",
      " 38%|███▊      | 11365/30000 [02:42<04:23, 70.80it/s]d:\\pycharm\\anaconda\\envs\\36_ygf_base_mcmc\\lib\\site-packages\\ipykernel_launcher.py:46: RuntimeWarning: invalid value encountered in double_scalars\n",
      " 53%|█████▎    | 15757/30000 [03:46<03:18, 71.62it/s]d:\\pycharm\\anaconda\\envs\\36_ygf_base_mcmc\\lib\\site-packages\\ipykernel_launcher.py:46: RuntimeWarning: invalid value encountered in double_scalars\n",
      "d:\\pycharm\\anaconda\\envs\\36_ygf_base_mcmc\\lib\\site-packages\\ipykernel_launcher.py:46: RuntimeWarning: invalid value encountered in double_scalars\n",
      " 53%|█████▎    | 15849/30000 [03:48<03:21, 70.34it/s]d:\\pycharm\\anaconda\\envs\\36_ygf_base_mcmc\\lib\\site-packages\\ipykernel_launcher.py:46: RuntimeWarning: invalid value encountered in double_scalars\n",
      " 53%|█████▎    | 15857/30000 [03:48<03:28, 67.84it/s]d:\\pycharm\\anaconda\\envs\\36_ygf_base_mcmc\\lib\\site-packages\\ipykernel_launcher.py:46: RuntimeWarning: invalid value encountered in double_scalars\n",
      " 53%|█████▎    | 15887/30000 [03:48<03:28, 67.54it/s]d:\\pycharm\\anaconda\\envs\\36_ygf_base_mcmc\\lib\\site-packages\\ipykernel_launcher.py:46: RuntimeWarning: invalid value encountered in double_scalars\n",
      " 54%|█████▍    | 16227/30000 [03:53<03:29, 65.77it/s]d:\\pycharm\\anaconda\\envs\\36_ygf_base_mcmc\\lib\\site-packages\\ipykernel_launcher.py:46: RuntimeWarning: invalid value encountered in double_scalars\n",
      " 62%|██████▏   | 18546/30000 [04:27<02:41, 71.04it/s]d:\\pycharm\\anaconda\\envs\\36_ygf_base_mcmc\\lib\\site-packages\\ipykernel_launcher.py:46: RuntimeWarning: invalid value encountered in double_scalars\n",
      " 72%|███████▏  | 21651/30000 [05:13<02:04, 66.97it/s]d:\\pycharm\\anaconda\\envs\\36_ygf_base_mcmc\\lib\\site-packages\\ipykernel_launcher.py:46: RuntimeWarning: invalid value encountered in double_scalars\n",
      " 75%|███████▍  | 22414/30000 [05:24<01:54, 66.42it/s]d:\\pycharm\\anaconda\\envs\\36_ygf_base_mcmc\\lib\\site-packages\\ipykernel_launcher.py:46: RuntimeWarning: invalid value encountered in double_scalars\n",
      " 84%|████████▍ | 25134/30000 [06:03<01:08, 70.54it/s]d:\\pycharm\\anaconda\\envs\\36_ygf_base_mcmc\\lib\\site-packages\\ipykernel_launcher.py:46: RuntimeWarning: invalid value encountered in double_scalars\n",
      " 93%|█████████▎| 27929/30000 [06:45<00:31, 66.74it/s]d:\\pycharm\\anaconda\\envs\\36_ygf_base_mcmc\\lib\\site-packages\\ipykernel_launcher.py:46: RuntimeWarning: invalid value encountered in double_scalars\n",
      "100%|█████████▉| 29991/30000 [07:15<00:00, 69.25it/s]d:\\pycharm\\anaconda\\envs\\36_ygf_base_mcmc\\lib\\site-packages\\ipykernel_launcher.py:46: RuntimeWarning: invalid value encountered in double_scalars\n",
      "100%|██████████| 30000/30000 [07:15<00:00, 68.83it/s]\n",
      "100%|██████████| 30000/30000 [00:00<00:00, 48631.10it/s]\n",
      "100%|██████████| 30000/30000 [02:45<00:00, 181.37it/s]\n",
      "  2%|▏         | 469/30000 [00:07<08:05, 60.86it/s]d:\\pycharm\\anaconda\\envs\\36_ygf_base_mcmc\\lib\\site-packages\\ipykernel_launcher.py:46: RuntimeWarning: invalid value encountered in double_scalars\n",
      " 13%|█▎        | 3889/30000 [00:56<05:57, 73.04it/s]d:\\pycharm\\anaconda\\envs\\36_ygf_base_mcmc\\lib\\site-packages\\ipykernel_launcher.py:46: RuntimeWarning: invalid value encountered in double_scalars\n",
      " 24%|██▎       | 7069/30000 [01:45<05:33, 68.70it/s]d:\\pycharm\\anaconda\\envs\\36_ygf_base_mcmc\\lib\\site-packages\\ipykernel_launcher.py:46: RuntimeWarning: invalid value encountered in double_scalars\n",
      " 26%|██▌       | 7794/30000 [01:55<05:50, 63.34it/s]d:\\pycharm\\anaconda\\envs\\36_ygf_base_mcmc\\lib\\site-packages\\ipykernel_launcher.py:46: RuntimeWarning: invalid value encountered in double_scalars\n",
      " 43%|████▎     | 12801/30000 [03:09<04:17, 66.69it/s]d:\\pycharm\\anaconda\\envs\\36_ygf_base_mcmc\\lib\\site-packages\\ipykernel_launcher.py:46: RuntimeWarning: invalid value encountered in double_scalars\n",
      " 47%|████▋     | 14033/30000 [03:27<04:01, 66.14it/s]d:\\pycharm\\anaconda\\envs\\36_ygf_base_mcmc\\lib\\site-packages\\ipykernel_launcher.py:46: RuntimeWarning: invalid value encountered in double_scalars\n",
      " 48%|████▊     | 14272/30000 [03:30<03:54, 67.20it/s]d:\\pycharm\\anaconda\\envs\\36_ygf_base_mcmc\\lib\\site-packages\\ipykernel_launcher.py:46: RuntimeWarning: invalid value encountered in double_scalars\n",
      " 53%|█████▎    | 15846/30000 [03:53<03:17, 71.58it/s]d:\\pycharm\\anaconda\\envs\\36_ygf_base_mcmc\\lib\\site-packages\\ipykernel_launcher.py:46: RuntimeWarning: invalid value encountered in double_scalars\n",
      " 59%|█████▊    | 17580/30000 [04:19<03:04, 67.46it/s]d:\\pycharm\\anaconda\\envs\\36_ygf_base_mcmc\\lib\\site-packages\\ipykernel_launcher.py:46: RuntimeWarning: invalid value encountered in double_scalars\n",
      " 70%|███████   | 21029/30000 [05:09<02:12, 67.54it/s]d:\\pycharm\\anaconda\\envs\\36_ygf_base_mcmc\\lib\\site-packages\\ipykernel_launcher.py:46: RuntimeWarning: invalid value encountered in double_scalars\n",
      " 86%|████████▌ | 25710/30000 [06:18<01:00, 70.74it/s]d:\\pycharm\\anaconda\\envs\\36_ygf_base_mcmc\\lib\\site-packages\\ipykernel_launcher.py:46: RuntimeWarning: invalid value encountered in double_scalars\n",
      " 96%|█████████▌| 28841/30000 [07:03<00:18, 62.08it/s]d:\\pycharm\\anaconda\\envs\\36_ygf_base_mcmc\\lib\\site-packages\\ipykernel_launcher.py:46: RuntimeWarning: invalid value encountered in double_scalars\n",
      " 96%|█████████▌| 28848/30000 [07:03<00:18, 63.85it/s]d:\\pycharm\\anaconda\\envs\\36_ygf_base_mcmc\\lib\\site-packages\\ipykernel_launcher.py:46: RuntimeWarning: invalid value encountered in double_scalars\n",
      " 96%|█████████▋| 28946/30000 [07:04<00:15, 68.93it/s]d:\\pycharm\\anaconda\\envs\\36_ygf_base_mcmc\\lib\\site-packages\\ipykernel_launcher.py:46: RuntimeWarning: invalid value encountered in double_scalars\n",
      "100%|██████████| 30000/30000 [07:19<00:00, 68.19it/s]\n",
      "100%|██████████| 30000/30000 [00:00<00:00, 51903.39it/s]\n",
      "100%|██████████| 30000/30000 [02:42<00:00, 184.15it/s]\n",
      "  6%|▌         | 1797/30000 [00:26<07:26, 63.18it/s]d:\\pycharm\\anaconda\\envs\\36_ygf_base_mcmc\\lib\\site-packages\\ipykernel_launcher.py:46: RuntimeWarning: invalid value encountered in double_scalars\n",
      " 13%|█▎        | 4044/30000 [00:58<06:10, 70.12it/s]d:\\pycharm\\anaconda\\envs\\36_ygf_base_mcmc\\lib\\site-packages\\ipykernel_launcher.py:46: RuntimeWarning: invalid value encountered in double_scalars\n",
      " 15%|█▌        | 4606/30000 [01:07<05:52, 71.99it/s]d:\\pycharm\\anaconda\\envs\\36_ygf_base_mcmc\\lib\\site-packages\\ipykernel_launcher.py:46: RuntimeWarning: invalid value encountered in double_scalars\n",
      " 17%|█▋        | 5111/30000 [01:14<05:59, 69.18it/s]d:\\pycharm\\anaconda\\envs\\36_ygf_base_mcmc\\lib\\site-packages\\ipykernel_launcher.py:46: RuntimeWarning: invalid value encountered in double_scalars\n",
      " 27%|██▋       | 7961/30000 [01:56<05:08, 71.55it/s]d:\\pycharm\\anaconda\\envs\\36_ygf_base_mcmc\\lib\\site-packages\\ipykernel_launcher.py:46: RuntimeWarning: invalid value encountered in double_scalars\n",
      " 35%|███▍      | 10416/30000 [02:32<04:54, 66.57it/s]d:\\pycharm\\anaconda\\envs\\36_ygf_base_mcmc\\lib\\site-packages\\ipykernel_launcher.py:46: RuntimeWarning: invalid value encountered in double_scalars\n",
      " 35%|███▌      | 10613/30000 [02:35<04:46, 67.61it/s]d:\\pycharm\\anaconda\\envs\\36_ygf_base_mcmc\\lib\\site-packages\\ipykernel_launcher.py:46: RuntimeWarning: invalid value encountered in double_scalars\n",
      " 36%|███▌      | 10770/30000 [02:37<04:36, 69.45it/s]d:\\pycharm\\anaconda\\envs\\36_ygf_base_mcmc\\lib\\site-packages\\ipykernel_launcher.py:46: RuntimeWarning: invalid value encountered in double_scalars\n",
      " 41%|████      | 12311/30000 [02:59<04:09, 70.88it/s]d:\\pycharm\\anaconda\\envs\\36_ygf_base_mcmc\\lib\\site-packages\\ipykernel_launcher.py:46: RuntimeWarning: invalid value encountered in double_scalars\n",
      " 42%|████▏     | 12520/30000 [03:02<04:08, 70.41it/s]d:\\pycharm\\anaconda\\envs\\36_ygf_base_mcmc\\lib\\site-packages\\ipykernel_launcher.py:46: RuntimeWarning: invalid value encountered in double_scalars\n",
      " 55%|█████▌    | 16501/30000 [04:00<04:40, 48.21it/s]d:\\pycharm\\anaconda\\envs\\36_ygf_base_mcmc\\lib\\site-packages\\ipykernel_launcher.py:46: RuntimeWarning: invalid value encountered in double_scalars\n",
      " 55%|█████▌    | 16521/30000 [04:01<03:49, 58.62it/s]d:\\pycharm\\anaconda\\envs\\36_ygf_base_mcmc\\lib\\site-packages\\ipykernel_launcher.py:46: RuntimeWarning: invalid value encountered in double_scalars\n",
      " 61%|██████▏   | 18413/30000 [04:28<02:46, 69.58it/s]d:\\pycharm\\anaconda\\envs\\36_ygf_base_mcmc\\lib\\site-packages\\ipykernel_launcher.py:46: RuntimeWarning: invalid value encountered in double_scalars\n",
      " 62%|██████▏   | 18545/30000 [04:30<02:41, 70.82it/s]d:\\pycharm\\anaconda\\envs\\36_ygf_base_mcmc\\lib\\site-packages\\ipykernel_launcher.py:46: RuntimeWarning: invalid value encountered in double_scalars\n",
      " 62%|██████▏   | 18656/30000 [04:31<02:40, 70.65it/s]d:\\pycharm\\anaconda\\envs\\36_ygf_base_mcmc\\lib\\site-packages\\ipykernel_launcher.py:46: RuntimeWarning: invalid value encountered in double_scalars\n",
      " 62%|██████▏   | 18664/30000 [04:31<02:39, 70.96it/s]d:\\pycharm\\anaconda\\envs\\36_ygf_base_mcmc\\lib\\site-packages\\ipykernel_launcher.py:46: RuntimeWarning: invalid value encountered in double_scalars\n",
      " 62%|██████▏   | 18743/30000 [04:33<02:33, 73.49it/s]d:\\pycharm\\anaconda\\envs\\36_ygf_base_mcmc\\lib\\site-packages\\ipykernel_launcher.py:46: RuntimeWarning: invalid value encountered in double_scalars\n",
      " 63%|██████▎   | 18790/30000 [04:33<02:47, 66.87it/s]d:\\pycharm\\anaconda\\envs\\36_ygf_base_mcmc\\lib\\site-packages\\ipykernel_launcher.py:46: RuntimeWarning: invalid value encountered in double_scalars\n",
      " 68%|██████▊   | 20511/30000 [04:58<02:15, 70.11it/s]d:\\pycharm\\anaconda\\envs\\36_ygf_base_mcmc\\lib\\site-packages\\ipykernel_launcher.py:46: RuntimeWarning: invalid value encountered in double_scalars\n",
      " 70%|███████   | 21141/30000 [05:08<02:24, 61.11it/s]d:\\pycharm\\anaconda\\envs\\36_ygf_base_mcmc\\lib\\site-packages\\ipykernel_launcher.py:46: RuntimeWarning: invalid value encountered in double_scalars\n",
      " 79%|███████▊  | 23615/30000 [05:44<01:43, 61.47it/s]d:\\pycharm\\anaconda\\envs\\36_ygf_base_mcmc\\lib\\site-packages\\ipykernel_launcher.py:46: RuntimeWarning: invalid value encountered in double_scalars\n",
      " 87%|████████▋ | 26195/30000 [06:19<00:50, 75.91it/s]d:\\pycharm\\anaconda\\envs\\36_ygf_base_mcmc\\lib\\site-packages\\ipykernel_launcher.py:46: RuntimeWarning: invalid value encountered in double_scalars\n",
      " 88%|████████▊ | 26395/30000 [06:22<00:47, 76.24it/s]d:\\pycharm\\anaconda\\envs\\36_ygf_base_mcmc\\lib\\site-packages\\ipykernel_launcher.py:46: RuntimeWarning: invalid value encountered in double_scalars\n",
      " 88%|████████▊ | 26547/30000 [06:24<00:46, 74.56it/s]d:\\pycharm\\anaconda\\envs\\36_ygf_base_mcmc\\lib\\site-packages\\ipykernel_launcher.py:46: RuntimeWarning: invalid value encountered in double_scalars\n",
      " 89%|████████▊ | 26555/30000 [06:24<00:47, 72.51it/s]d:\\pycharm\\anaconda\\envs\\36_ygf_base_mcmc\\lib\\site-packages\\ipykernel_launcher.py:46: RuntimeWarning: invalid value encountered in double_scalars\n",
      " 89%|████████▊ | 26571/30000 [06:24<00:46, 74.18it/s]d:\\pycharm\\anaconda\\envs\\36_ygf_base_mcmc\\lib\\site-packages\\ipykernel_launcher.py:46: RuntimeWarning: invalid value encountered in double_scalars\n",
      " 89%|████████▊ | 26579/30000 [06:25<00:46, 74.11it/s]d:\\pycharm\\anaconda\\envs\\36_ygf_base_mcmc\\lib\\site-packages\\ipykernel_launcher.py:46: RuntimeWarning: invalid value encountered in double_scalars\n",
      " 89%|████████▊ | 26587/30000 [06:25<00:45, 74.71it/s]d:\\pycharm\\anaconda\\envs\\36_ygf_base_mcmc\\lib\\site-packages\\ipykernel_launcher.py:46: RuntimeWarning: invalid value encountered in double_scalars\n",
      " 89%|████████▉ | 26747/30000 [06:27<00:43, 75.50it/s]d:\\pycharm\\anaconda\\envs\\36_ygf_base_mcmc\\lib\\site-packages\\ipykernel_launcher.py:46: RuntimeWarning: invalid value encountered in double_scalars\n",
      " 93%|█████████▎| 27944/30000 [06:44<00:28, 71.07it/s]d:\\pycharm\\anaconda\\envs\\36_ygf_base_mcmc\\lib\\site-packages\\ipykernel_launcher.py:46: RuntimeWarning: invalid value encountered in double_scalars\n",
      "100%|██████████| 30000/30000 [07:15<00:00, 68.90it/s]\n"
     ]
    }
   ],
   "source": [
    "longs = [30000,30000,30000]\n",
    "epoch_size = len(longs)\n",
    "for i,long in zip(range(epoch_size),longs):\n",
    "\n",
    "    dist,acc_num = SP(long,mu=mu,sigma=sigma)\n",
    "    dist = np.array(dist)\n",
    "    np.save(\"SP_sample_i_\"+str(i),dist)\n",
    "   \n",
    "    \n",
    "    dist = MP(long, mu=mu, sigma=sigma, N=3)\n",
    "    dist = np.array(dist)\n",
    "    np.save(\"MP_samples_i_\"+str(i),dist)\n",
    "    \n",
    "    \n",
    "    dist = PMP(long, mu=mu, sigma=sigma,N=3,deep=2)\n",
    "    dist = np.array(dist)\n",
    "    np.save(\"PNP_samples_i_\"+str(i),dist)\n",
    "\n",
    "   \n"
   ]
  },
  {
   "cell_type": "code",
   "execution_count": 6,
   "id": "95efa1df",
   "metadata": {
    "scrolled": true
   },
   "outputs": [
    {
     "name": "stderr",
     "output_type": "stream",
     "text": [
      "100%|██████████| 100/100 [00:00<00:00, 50093.20it/s]\n",
      "100%|██████████| 100/100 [00:00<00:00, 186.47it/s]\n",
      "100%|██████████| 100/100 [00:01<00:00, 68.00it/s]\n",
      "100%|██████████| 1000/1000 [00:00<00:00, 52615.59it/s]\n",
      "100%|██████████| 1000/1000 [00:05<00:00, 185.05it/s]\n",
      " 92%|█████████▏| 917/1000 [00:13<00:01, 70.90it/s]d:\\pycharm\\anaconda\\envs\\36_ygf_base_mcmc\\lib\\site-packages\\ipykernel_launcher.py:46: RuntimeWarning: invalid value encountered in double_scalars\n",
      " 95%|█████████▍| 948/1000 [00:13<00:00, 69.11it/s]d:\\pycharm\\anaconda\\envs\\36_ygf_base_mcmc\\lib\\site-packages\\ipykernel_launcher.py:46: RuntimeWarning: invalid value encountered in double_scalars\n",
      " 98%|█████████▊| 980/1000 [00:13<00:00, 69.23it/s]d:\\pycharm\\anaconda\\envs\\36_ygf_base_mcmc\\lib\\site-packages\\ipykernel_launcher.py:46: RuntimeWarning: invalid value encountered in double_scalars\n",
      "100%|██████████| 1000/1000 [00:14<00:00, 70.26it/s]\n",
      "100%|██████████| 5000/5000 [00:00<00:00, 38577.68it/s]\n",
      "100%|██████████| 5000/5000 [00:26<00:00, 190.36it/s]\n",
      " 45%|████▌     | 2256/5000 [00:32<00:40, 68.45it/s]d:\\pycharm\\anaconda\\envs\\36_ygf_base_mcmc\\lib\\site-packages\\ipykernel_launcher.py:46: RuntimeWarning: invalid value encountered in double_scalars\n",
      " 64%|██████▍   | 3214/5000 [00:46<00:25, 70.36it/s]d:\\pycharm\\anaconda\\envs\\36_ygf_base_mcmc\\lib\\site-packages\\ipykernel_launcher.py:46: RuntimeWarning: invalid value encountered in double_scalars\n",
      " 84%|████████▍ | 4211/5000 [01:00<00:11, 71.07it/s]d:\\pycharm\\anaconda\\envs\\36_ygf_base_mcmc\\lib\\site-packages\\ipykernel_launcher.py:46: RuntimeWarning: invalid value encountered in double_scalars\n",
      "100%|██████████| 5000/5000 [01:12<00:00, 69.38it/s]\n",
      "100%|██████████| 10000/10000 [00:00<00:00, 47467.39it/s]\n",
      "100%|██████████| 10000/10000 [00:52<00:00, 190.05it/s]\n",
      " 59%|█████▉    | 5911/10000 [01:25<01:02, 65.04it/s]d:\\pycharm\\anaconda\\envs\\36_ygf_base_mcmc\\lib\\site-packages\\ipykernel_launcher.py:46: RuntimeWarning: invalid value encountered in double_scalars\n",
      " 60%|█████▉    | 5972/10000 [01:25<01:00, 66.11it/s]d:\\pycharm\\anaconda\\envs\\36_ygf_base_mcmc\\lib\\site-packages\\ipykernel_launcher.py:46: RuntimeWarning: invalid value encountered in double_scalars\n",
      "100%|██████████| 10000/10000 [02:23<00:00, 69.54it/s]\n",
      "100%|██████████| 30000/30000 [00:00<00:00, 48384.97it/s]\n",
      "100%|██████████| 30000/30000 [02:45<00:00, 181.17it/s]\n",
      " 16%|█▋        | 4885/30000 [01:23<06:57, 60.16it/s]d:\\pycharm\\anaconda\\envs\\36_ygf_base_mcmc\\lib\\site-packages\\ipykernel_launcher.py:46: RuntimeWarning: invalid value encountered in double_scalars\n",
      " 25%|██▌       | 7531/30000 [02:07<06:17, 59.46it/s]d:\\pycharm\\anaconda\\envs\\36_ygf_base_mcmc\\lib\\site-packages\\ipykernel_launcher.py:46: RuntimeWarning: invalid value encountered in double_scalars\n",
      " 27%|██▋       | 8227/30000 [02:19<05:57, 60.87it/s]d:\\pycharm\\anaconda\\envs\\36_ygf_base_mcmc\\lib\\site-packages\\ipykernel_launcher.py:46: RuntimeWarning: invalid value encountered in double_scalars\n",
      " 30%|███       | 9046/30000 [02:32<05:49, 60.03it/s]d:\\pycharm\\anaconda\\envs\\36_ygf_base_mcmc\\lib\\site-packages\\ipykernel_launcher.py:46: RuntimeWarning: invalid value encountered in double_scalars\n",
      " 31%|███       | 9202/30000 [02:35<06:04, 57.02it/s]d:\\pycharm\\anaconda\\envs\\36_ygf_base_mcmc\\lib\\site-packages\\ipykernel_launcher.py:46: RuntimeWarning: invalid value encountered in double_scalars\n",
      " 45%|████▍     | 13353/30000 [03:45<04:40, 59.41it/s]d:\\pycharm\\anaconda\\envs\\36_ygf_base_mcmc\\lib\\site-packages\\ipykernel_launcher.py:46: RuntimeWarning: invalid value encountered in double_scalars\n",
      " 46%|████▌     | 13866/30000 [03:53<04:49, 55.69it/s]d:\\pycharm\\anaconda\\envs\\36_ygf_base_mcmc\\lib\\site-packages\\ipykernel_launcher.py:46: RuntimeWarning: invalid value encountered in double_scalars\n",
      " 53%|█████▎    | 15909/30000 [04:28<04:18, 54.47it/s]d:\\pycharm\\anaconda\\envs\\36_ygf_base_mcmc\\lib\\site-packages\\ipykernel_launcher.py:46: RuntimeWarning: invalid value encountered in double_scalars\n",
      " 54%|█████▍    | 16192/30000 [04:33<03:53, 59.03it/s]d:\\pycharm\\anaconda\\envs\\36_ygf_base_mcmc\\lib\\site-packages\\ipykernel_launcher.py:46: RuntimeWarning: invalid value encountered in double_scalars\n",
      " 55%|█████▍    | 16482/30000 [04:38<03:42, 60.75it/s]d:\\pycharm\\anaconda\\envs\\36_ygf_base_mcmc\\lib\\site-packages\\ipykernel_launcher.py:46: RuntimeWarning: invalid value encountered in double_scalars\n",
      " 56%|█████▌    | 16855/30000 [04:44<03:38, 60.18it/s]d:\\pycharm\\anaconda\\envs\\36_ygf_base_mcmc\\lib\\site-packages\\ipykernel_launcher.py:46: RuntimeWarning: invalid value encountered in double_scalars\n",
      " 59%|█████▉    | 17753/30000 [04:59<03:23, 60.11it/s]d:\\pycharm\\anaconda\\envs\\36_ygf_base_mcmc\\lib\\site-packages\\ipykernel_launcher.py:46: RuntimeWarning: invalid value encountered in double_scalars\n",
      " 68%|██████▊   | 20402/30000 [05:44<02:39, 60.02it/s]d:\\pycharm\\anaconda\\envs\\36_ygf_base_mcmc\\lib\\site-packages\\ipykernel_launcher.py:46: RuntimeWarning: invalid value encountered in double_scalars\n",
      " 78%|███████▊  | 23397/30000 [06:35<01:50, 59.98it/s]d:\\pycharm\\anaconda\\envs\\36_ygf_base_mcmc\\lib\\site-packages\\ipykernel_launcher.py:46: RuntimeWarning: invalid value encountered in double_scalars\n",
      " 79%|███████▉  | 23633/30000 [06:39<01:46, 59.88it/s]d:\\pycharm\\anaconda\\envs\\36_ygf_base_mcmc\\lib\\site-packages\\ipykernel_launcher.py:46: RuntimeWarning: invalid value encountered in double_scalars\n",
      " 83%|████████▎ | 24995/30000 [07:02<01:25, 58.37it/s]d:\\pycharm\\anaconda\\envs\\36_ygf_base_mcmc\\lib\\site-packages\\ipykernel_launcher.py:46: RuntimeWarning: invalid value encountered in double_scalars\n",
      "100%|██████████| 30000/30000 [08:27<00:00, 59.09it/s]\n"
     ]
    },
    {
     "data": {
      "image/png": "[encoded data removed]",
      "text/plain": [
       "<Figure size 432x288 with 16 Axes>"
      ]
     },
     "metadata": {
      "needs_background": "light"
     },
     "output_type": "display_data"
    }
   ],
   "source": [
    "\n",
    "fig = plt.figure()\n",
    "longs = [100,1000,5000,10000,30000]\n",
    "epoch_size = len(longs)\n",
    "for i,long in zip(range(epoch_size),longs):\n",
    "    ax = fig.add_subplot(3, epoch_size +1, i + 1)\n",
    "    ax.tick_params(axis='x', which='both', length=0)\n",
    "    dist,acc_num = SP(long,mu=mu,sigma=sigma)\n",
    "    dist = np.array(dist)\n",
    "    plt.xlim(-3,3)\n",
    "    plt.ylim(-15,7)\n",
    "    plt.title(str(long))\n",
    "    plt.hist2d(dist[:, 0], dist[:, 1], bins=40, cmap='viridis',range=np.array([(-3, 3), (-15, 7)]))\n",
    "    ax.tick_params(axis='x', which='both', bottom=False, left=False, labelbottom=False, labelleft=False)\n",
    "    if i%5 !=0:\n",
    "        ax.tick_params(axis='y', which='both', bottom=False, left=False, labelbottom=False, labelleft=False)\n",
    "        \n",
    "    ax = fig.add_subplot(3, epoch_size +1, epoch_size+1+i + 1)\n",
    "    dist = MP(long, mu=mu, sigma=sigma, N=3)\n",
    "    dist = np.array(dist)\n",
    "    plt.xlim(-3,3)\n",
    "    plt.ylim(-15,7)\n",
    "   \n",
    "    plt.hist2d(dist[:, 0], dist[:, 1], bins=40, cmap='viridis',range=np.array([(-3, 3), (-15, 7)]))\n",
    "    ax.tick_params(axis='x', which='both', bottom=False, left=False, labelbottom=False, labelleft=False)\n",
    "    if (epoch_size+1+i )%5 !=0:\n",
    "        ax.tick_params(axis='y', which='both', bottom=False, left=False, labelbottom=False, labelleft=False)\n",
    "        \n",
    "    ax = fig.add_subplot(3, epoch_size +1, epoch_size+1+epoch_size+1+i + 1)\n",
    "    if (epoch_size+epoch_size+i + 1)%5 !=0:\n",
    "        ax.tick_params(axis='y', which='both', bottom=False, left=False, labelbottom=False, labelleft=False)\n",
    "    ax.tick_params(axis='x', which='both', length=0)\n",
    "    dist = PMP(long, mu=mu, sigma=sigma,N=3,deep=2)\n",
    "    dist = np.array(dist)\n",
    "\n",
    "    plt.xlim(-3,3)\n",
    "    plt.ylim(-15,7)\n",
    "    \n",
    "    plt.hist2d(dist[:, 0], dist[:, 1], bins=40, cmap='viridis',range=np.array([(-3, 3), (-15, 7)]))\n",
    "ax = fig.add_subplot(3, epoch_size +1, 3*(epoch_size+1))  \n",
    "ax.tick_params(axis='y', which='both', bottom=False, left=False, labelbottom=False, labelleft=False)\n",
    "x1_range = np.linspace(-3, 3, 400)\n",
    "x2_range = np.linspace(-15, 7, 400)\n",
    "X1, X2 = np.meshgrid(x1_range, x2_range)\n",
    "X = np.array([X1, X2])\n",
    "P = banana_distribution(X)\n",
    "\n",
    "plt.imshow(P, extent=(-3, 3, -15, 7), origin='lower', cmap='viridis', aspect='auto')\n",
    "\n",
    "plt.xlim(-3,3)\n",
    "plt.ylim(-15,7)\n",
    "plt.title('Target')\n",
    "plt.savefig(\"banana.pdf\")\n"
   ]
  },
  {
   "cell_type": "code",
   "execution_count": null,
   "id": "fc462899",
   "metadata": {},
   "outputs": [],
   "source": []
  }
 ],
 "metadata": {
  "kernelspec": {
   "display_name": "Python 3.6.13 ('36_ygf_base_mcmc')",
   "language": "python",
   "name": "python3"
  },
  "language_info": {
   "codemirror_mode": {
    "name": "ipython",
    "version": 3
   },
   "file_extension": ".py",
   "mimetype": "text/x-python",
   "name": "python",
   "nbconvert_exporter": "python",
   "pygments_lexer": "ipython3",
   "version": "3.6.13"
  },
  "vscode": {
   "interpreter": {
    "hash": "b40cf44399c9cb02c5dc1faa2a772d89fd68eff0b071de3bbf8484075cd15cdb"
   }
  }
 },
 "nbformat": 4,
 "nbformat_minor": 5
}
